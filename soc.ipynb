{
 "cells": [
  {
   "cell_type": "markdown",
   "metadata": {},
   "source": [
    "### Otimização com Restrições\n",
    "\n",
    "Quero maximizar $u: X \\to \\mathbb{R}^{+}$ sujeito à restrição orçamentária $x \\cdot p_x + y \\cdot p_y = m$. Aqui já estou supondo que a restrição vale com igualdade. Se isso te deixa desconfortável, lembre-se de que raramente iremos encontrar um ser humano com preferências que *não* são localmente não-saciadas."
   ]
  },
  {
   "cell_type": "markdown",
   "metadata": {},
   "source": [
    "#### Condições de primeira ordem (*redux*) e segunda ordem:\n",
    "\n",
    "Condições de segunda ordem são mais *tricky*. Vamos tentar derivá-las naturalmente junto com as condições de primeira ordem. Considere uma representação paramétrica $x = h(t)$ e $y = k(t)$ da restrição. Então tanto $u$ quanto $m$ passam a depender apenas do parâmetro. Assim, temos:\n",
    "\n",
    "$U(t) = u(h(t), k(t))$.\n",
    "\n",
    "Queremos os pontos onde a derivada de $U$ se anula:\n",
    "\n",
    "$\\frac{dU(t)}{dt} = \\partial_x u \\frac{dx}{dt} + \\partial_y u \\frac{dy}{dt} = 0.$\n",
    "\n",
    "Reescreva como:\n",
    "\n",
    "$\\dot U = u_x \\dot x + u_y \\dot y = 0.$\n",
    "\n",
    "Evidentemente, como a renda é constante, temos também:\n",
    "\n",
    "$\\dot m = g_x \\dot x + g_y \\dot y = 0$\n",
    "\n",
    "onde $g = g(x, y)$ representa a restrição original. Seja $T = (\\dot x, \\dot y)$ o vetor tangente a $m = g(x, y)$. Então\n",
    "\n",
    "$T \\cdot \\nabla u = T \\cdot \\nabla g = 0.$\n",
    "\n",
    "Mas então tanto $\\nabla u$ quanto $\\nabla g$ são ortogonais a $T$. Em particular, $\\nabla u$ e $\\nabla g$ são ortogonais entre si! Então um é múltiplo do outro. Daí, temos\n",
    "\n",
    "$\\nabla u = \\lambda \\nabla g$,\n",
    "\n",
    "o mantra dos economistas na graduação.\n",
    "\n",
    "Para termos um **máximo**, devemos ter\n",
    "\n",
    "$\\ddot U < 0.$\n",
    "\n",
    "Como $m$ é uma função constante com variações no parâmetro $t$, temos que\n",
    "\n",
    "$\\dot m = \\ddot m = 0.$\n",
    "\n",
    "Daí, obtemos:\n",
    "\n",
    "$\\dot m = g_x \\dot x + g_y \\dot y = 0$,\n",
    "\n",
    "(que já tínhamos) e, portanto,\n",
    "\n",
    "$\\ddot m = (\\dot x^2 g_{xx} + 2 \\dot x \\dot y g_{xy} + \\dot y^{2} g_{yy}) = 0.$\n",
    "\n",
    "Também queremos $U$ côncava:\n",
    "\n",
    "$\\ddot U = (\\dot x^2 u_{xx} + 2 \\dot x \\dot y g_{xy} + \\dot y^{2} g_{yy}) < 0.$\n",
    "\n",
    "Agora, multiplique a penúltima equação por $\\lambda$ para obter:\n",
    "\n",
    "$(\\dot x^2 \\lambda g_{xx} + 2 \\dot x \\dot y \\lambda g_{xy} + \\dot y^{2} \\lambda g_{yy}) = 0.$\n",
    "\n",
    "Combine com a desigualdade de concavidade estrita de $U$ somando e conclua que:\n",
    "\n",
    "$$\\dot x^2 (u_{xx} + \\lambda g_{xx}) + 2 \\dot x \\dot y (u_{xy} + \\lambda g_{xy}) + \\dot y^2 (u_{yy} + \\lambda g_{yy}) < 0.$$\n",
    "\n",
    "Agora consigo traduzir esse bixo numa forma quadrática, que deve ser negativa definida para termos um máximo sujeito à condição $(\\dot x, \\dot y) = k(-g_y, g_x)$. Pondo $F = f + \\lambda g$, vem:\n",
    "\n",
    "$(\\dot x, \\dot y) \\begin{bmatrix} F_{xx} & F_{yx} \\\\ F_{xy} & F_{yy} \\end{bmatrix} \\begin{bmatrix} \\dot x \\\\ \\dot y \\end{bmatrix} < 0.$\n",
    "\n",
    "Observando que\n",
    "\n",
    "$(\\dot x, \\dot y) \\cdot (g_x, g_y) = 0$\n",
    "\n",
    "concluímos que esses caras são ortogonais, de sorte que $(\\dot x, \\dot y)$ é paralelo a $(-g_y, g_x)$. Ok, então\n",
    "\n",
    "$(\\dot x, \\dot y) = \\bar k (-g_y, g_x).$\n",
    "\n",
    "Substituindo na forma quadrática, vem\n",
    "\n",
    "$\\bar k^2 (F_{xx} g_x^2 - 2F_{xy}g_xg_y + F_{yy}g_y^2 < 0).$\n",
    "\n",
    "Equivale a\n",
    "\n",
    "$\\begin{vmatrix} F_{xx} & F_{xy} & -g \\\\ F_{yx} & F{yy} & -g_{y} \\\\ -g_x & -g_y & 0 \\end{vmatrix} < 0.$\n",
    "\n",
    "A conhecida condição de determinante do Hessiano orlado negativo. $\\blacksquare$"
   ]
  },
  {
   "cell_type": "markdown",
   "metadata": {},
   "source": [
    "**Observação.**\n",
    "\n",
    "$(x, y) \\perp (z, w)$ implica $(x, y)$ paralelo a $(-w, z)$. De fato, $x \\cdot z + y \\cdot w = 0$ implica $x = -\\frac{yw}{z}$ e $y = -\\frac{xz}{w}$. Se $z$ ou $w$ forem $0$, melhor ainda."
   ]
  }
 ],
 "metadata": {
  "kernelspec": {
   "display_name": "Python 3",
   "language": "python",
   "name": "python3"
  },
  "language_info": {
   "codemirror_mode": {
    "name": "ipython",
    "version": 3
   },
   "file_extension": ".py",
   "mimetype": "text/x-python",
   "name": "python",
   "nbconvert_exporter": "python",
   "pygments_lexer": "ipython3",
   "version": "3.8.5"
  }
 },
 "nbformat": 4,
 "nbformat_minor": 4
}
